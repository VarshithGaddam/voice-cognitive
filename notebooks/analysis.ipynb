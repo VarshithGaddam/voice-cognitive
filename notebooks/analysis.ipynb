{
 "cells": [
  {
   "cell_type": "markdown",
   "metadata": {},
   "source": [
    "# Voice-Based Cognitive Decline Detection Analysis\n",
    "\n",
    "This notebook runs the pipeline and explores the results."
   ]
  },
  {
   "cell_type": "code",
   "execution_count": null,
   "metadata": {},
   "outputs": [],
   "source": [
    "from src.pipeline import run_pipeline, get_risk_score\n",
    "\n",
    "# Run the full pipeline\n",
    "features, anomaly_results, risk_scores = run_pipeline('data/raw/')\n",
    "\n",
    "# Print risk scores\n",
    "print('Risk Scores:')\n",
    "for file_name, score in risk_scores.items():\n",
    "    print(f'{file_name}: {score}')"
   ]
  },
  {
   "cell_type": "code",
   "execution_count": null,
   "metadata": {},
   "outputs": [],
   "source": [
    "# Test API function for a single file\n",
    "score = get_risk_score('data/raw/sample1.wav')\n",
    "print(f'Risk score for sample1.wav: {score}')"
   ]
  },
  {
   "cell_type": "code",
   "execution_count": null,
   "metadata": {},
   "outputs": [],
   "source": [
    "# Load and display results\n",
    "import pandas as pd\n",
    "results = pd.read_csv('results/results.csv')\n",
    "results.head()"
   ]
  },
  {
   "cell_type": "markdown",
   "metadata": {},
   "source": [
    "Visualizations are saved as `feature_trends.png` and `anomaly_scores.png`. Check `reports/cognitive_decline_report.md` for the full report."
   ]
  }
 ],
 "metadata": {
  "kernelspec": {
   "display_name": "Python 3",
   "language": "python",
   "name": "python3"
  },
  "language_info": {
   "codemirror_mode": {
    "name": "ipython",
    "version": 3
   },
   "file_extension": ".py",
   "mimetype": "text/x-python",
   "name": "python",
   "nbconvert_exporter": "python",
   "pygments_lexer": "ipython3",
   "version": "3.9.0"
  }
 },
 "nbformat": 4,
 "nbformat_minor": 4
}